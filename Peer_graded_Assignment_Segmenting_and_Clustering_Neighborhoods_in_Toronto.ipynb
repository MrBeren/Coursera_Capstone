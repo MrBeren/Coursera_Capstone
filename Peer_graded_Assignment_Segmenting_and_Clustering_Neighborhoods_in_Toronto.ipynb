{
  "nbformat": 4,
  "nbformat_minor": 0,
  "metadata": {
    "colab": {
      "name": "Peer-graded Assignment: Segmenting and Clustering Neighborhoods in Toronto.ipynb",
      "provenance": [],
      "collapsed_sections": [],
      "authorship_tag": "ABX9TyMp7ybqPFaPwvz8+oZoIWLy",
      "include_colab_link": true
    },
    "kernelspec": {
      "name": "python3",
      "display_name": "Python 3"
    }
  },
  "cells": [
    {
      "cell_type": "markdown",
      "metadata": {
        "id": "view-in-github",
        "colab_type": "text"
      },
      "source": [
        "<a href=\"https://colab.research.google.com/github/MrBeren/Coursera_Capstone/blob/main/Peer_graded_Assignment_Segmenting_and_Clustering_Neighborhoods_in_Toronto.ipynb\" target=\"_parent\"><img src=\"https://colab.research.google.com/assets/colab-badge.svg\" alt=\"Open In Colab\"/></a>"
      ]
    },
    {
      "cell_type": "markdown",
      "metadata": {
        "id": "weINe3gSWD-2"
      },
      "source": [
        "PART1"
      ]
    },
    {
      "cell_type": "code",
      "metadata": {
        "colab": {
          "base_uri": "https://localhost:8080/"
        },
        "id": "FzI4Fof_VT-z",
        "outputId": "197d6748-bc6e-4a2e-b7d7-6c69f99a18b8"
      },
      "source": [
        "import pandas as pd\r\n",
        "\r\n",
        "# Import data\r\n",
        "url = 'https://en.wikipedia.org/wiki/List_of_postal_codes_of_Canada:_M'\r\n",
        "df_codes = pd.read_html(url)[0]\r\n",
        "\r\n",
        "# Ignore cells with a borough that is Not assigned.\r\n",
        "df_codes = df_codes.drop(df_codes[df_codes['Borough'] == 'Not assigned'].index).reset_index(drop=True)\r\n",
        "\r\n",
        "# Display df size\r\n",
        "df_codes.shape"
      ],
      "execution_count": 1,
      "outputs": [
        {
          "output_type": "execute_result",
          "data": {
            "text/plain": [
              "(103, 3)"
            ]
          },
          "metadata": {
            "tags": []
          },
          "execution_count": 1
        }
      ]
    },
    {
      "cell_type": "markdown",
      "metadata": {
        "id": "Mme3QQyfdZ-1"
      },
      "source": [
        "PART2"
      ]
    },
    {
      "cell_type": "code",
      "metadata": {
        "id": "dfU6NQmVe5I5"
      },
      "source": [
        "# suggested api didn't work, so data is imported from the file\r\n",
        "url = 'https://cocl.us/Geospatial_data'\r\n",
        "df_geo = pd.read_csv(url)\r\n",
        "\r\n",
        "# merge two dfs\r\n",
        "df = pd.merge(df_codes, df_geo, on='Postal Code')"
      ],
      "execution_count": 2,
      "outputs": []
    },
    {
      "cell_type": "markdown",
      "metadata": {
        "id": "yLrZePpoUVKf"
      },
      "source": [
        "PART3"
      ]
    },
    {
      "cell_type": "code",
      "metadata": {
        "colab": {
          "base_uri": "https://localhost:8080/"
        },
        "id": "1XBUzzyZbeS7",
        "outputId": "0d7771e4-7c8b-4659-ecaf-55ce8fbcad17"
      },
      "source": [
        "import numpy as np # library to handle data in a vectorized manner\r\n",
        "\r\n",
        "import json # library to handle JSON files\r\n",
        "\r\n",
        "! pip install geopy # uncomment this line if you haven't completed the Foursquare API lab\r\n",
        "from geopy.geocoders import Nominatim # convert an address into latitude and longitude values\r\n",
        "\r\n",
        "import requests # library to handle requests\r\n",
        "from pandas.io.json import json_normalize # tranform JSON file into a pandas dataframe\r\n",
        "\r\n",
        "# Matplotlib and associated plotting modules\r\n",
        "import matplotlib.cm as cm\r\n",
        "import matplotlib.colors as colors\r\n",
        "\r\n",
        "# import k-means from clustering stage\r\n",
        "from sklearn.cluster import KMeans\r\n",
        "\r\n",
        "#!pip install folium # uncomment this line if you haven't completed the Foursquare API lab\r\n",
        "import folium # map rendering library"
      ],
      "execution_count": 3,
      "outputs": [
        {
          "output_type": "stream",
          "text": [
            "Requirement already satisfied: geopy in /usr/local/lib/python3.6/dist-packages (1.17.0)\n",
            "Requirement already satisfied: geographiclib<2,>=1.49 in /usr/local/lib/python3.6/dist-packages (from geopy) (1.50)\n"
          ],
          "name": "stdout"
        }
      ]
    },
    {
      "cell_type": "code",
      "metadata": {
        "colab": {
          "base_uri": "https://localhost:8080/",
          "height": 1000
        },
        "id": "1zwTsmDDUX9P",
        "outputId": "9b40985b-236c-4d75-cd2d-ff4befd6d949"
      },
      "source": [
        "# Sorting the df as suggested in assigmnent\r\n",
        "df_clusters = df[df['Borough'].str.contains(\"Toronto\")].reset_index(drop=True)\r\n",
        "df_clusters"
      ],
      "execution_count": 4,
      "outputs": [
        {
          "output_type": "execute_result",
          "data": {
            "text/html": [
              "<div>\n",
              "<style scoped>\n",
              "    .dataframe tbody tr th:only-of-type {\n",
              "        vertical-align: middle;\n",
              "    }\n",
              "\n",
              "    .dataframe tbody tr th {\n",
              "        vertical-align: top;\n",
              "    }\n",
              "\n",
              "    .dataframe thead th {\n",
              "        text-align: right;\n",
              "    }\n",
              "</style>\n",
              "<table border=\"1\" class=\"dataframe\">\n",
              "  <thead>\n",
              "    <tr style=\"text-align: right;\">\n",
              "      <th></th>\n",
              "      <th>Postal Code</th>\n",
              "      <th>Borough</th>\n",
              "      <th>Neighbourhood</th>\n",
              "      <th>Latitude</th>\n",
              "      <th>Longitude</th>\n",
              "    </tr>\n",
              "  </thead>\n",
              "  <tbody>\n",
              "    <tr>\n",
              "      <th>0</th>\n",
              "      <td>M5A</td>\n",
              "      <td>Downtown Toronto</td>\n",
              "      <td>Regent Park, Harbourfront</td>\n",
              "      <td>43.654260</td>\n",
              "      <td>-79.360636</td>\n",
              "    </tr>\n",
              "    <tr>\n",
              "      <th>1</th>\n",
              "      <td>M7A</td>\n",
              "      <td>Downtown Toronto</td>\n",
              "      <td>Queen's Park, Ontario Provincial Government</td>\n",
              "      <td>43.662301</td>\n",
              "      <td>-79.389494</td>\n",
              "    </tr>\n",
              "    <tr>\n",
              "      <th>2</th>\n",
              "      <td>M5B</td>\n",
              "      <td>Downtown Toronto</td>\n",
              "      <td>Garden District, Ryerson</td>\n",
              "      <td>43.657162</td>\n",
              "      <td>-79.378937</td>\n",
              "    </tr>\n",
              "    <tr>\n",
              "      <th>3</th>\n",
              "      <td>M5C</td>\n",
              "      <td>Downtown Toronto</td>\n",
              "      <td>St. James Town</td>\n",
              "      <td>43.651494</td>\n",
              "      <td>-79.375418</td>\n",
              "    </tr>\n",
              "    <tr>\n",
              "      <th>4</th>\n",
              "      <td>M4E</td>\n",
              "      <td>East Toronto</td>\n",
              "      <td>The Beaches</td>\n",
              "      <td>43.676357</td>\n",
              "      <td>-79.293031</td>\n",
              "    </tr>\n",
              "    <tr>\n",
              "      <th>5</th>\n",
              "      <td>M5E</td>\n",
              "      <td>Downtown Toronto</td>\n",
              "      <td>Berczy Park</td>\n",
              "      <td>43.644771</td>\n",
              "      <td>-79.373306</td>\n",
              "    </tr>\n",
              "    <tr>\n",
              "      <th>6</th>\n",
              "      <td>M5G</td>\n",
              "      <td>Downtown Toronto</td>\n",
              "      <td>Central Bay Street</td>\n",
              "      <td>43.657952</td>\n",
              "      <td>-79.387383</td>\n",
              "    </tr>\n",
              "    <tr>\n",
              "      <th>7</th>\n",
              "      <td>M6G</td>\n",
              "      <td>Downtown Toronto</td>\n",
              "      <td>Christie</td>\n",
              "      <td>43.669542</td>\n",
              "      <td>-79.422564</td>\n",
              "    </tr>\n",
              "    <tr>\n",
              "      <th>8</th>\n",
              "      <td>M5H</td>\n",
              "      <td>Downtown Toronto</td>\n",
              "      <td>Richmond, Adelaide, King</td>\n",
              "      <td>43.650571</td>\n",
              "      <td>-79.384568</td>\n",
              "    </tr>\n",
              "    <tr>\n",
              "      <th>9</th>\n",
              "      <td>M6H</td>\n",
              "      <td>West Toronto</td>\n",
              "      <td>Dufferin, Dovercourt Village</td>\n",
              "      <td>43.669005</td>\n",
              "      <td>-79.442259</td>\n",
              "    </tr>\n",
              "    <tr>\n",
              "      <th>10</th>\n",
              "      <td>M5J</td>\n",
              "      <td>Downtown Toronto</td>\n",
              "      <td>Harbourfront East, Union Station, Toronto Islands</td>\n",
              "      <td>43.640816</td>\n",
              "      <td>-79.381752</td>\n",
              "    </tr>\n",
              "    <tr>\n",
              "      <th>11</th>\n",
              "      <td>M6J</td>\n",
              "      <td>West Toronto</td>\n",
              "      <td>Little Portugal, Trinity</td>\n",
              "      <td>43.647927</td>\n",
              "      <td>-79.419750</td>\n",
              "    </tr>\n",
              "    <tr>\n",
              "      <th>12</th>\n",
              "      <td>M4K</td>\n",
              "      <td>East Toronto</td>\n",
              "      <td>The Danforth West, Riverdale</td>\n",
              "      <td>43.679557</td>\n",
              "      <td>-79.352188</td>\n",
              "    </tr>\n",
              "    <tr>\n",
              "      <th>13</th>\n",
              "      <td>M5K</td>\n",
              "      <td>Downtown Toronto</td>\n",
              "      <td>Toronto Dominion Centre, Design Exchange</td>\n",
              "      <td>43.647177</td>\n",
              "      <td>-79.381576</td>\n",
              "    </tr>\n",
              "    <tr>\n",
              "      <th>14</th>\n",
              "      <td>M6K</td>\n",
              "      <td>West Toronto</td>\n",
              "      <td>Brockton, Parkdale Village, Exhibition Place</td>\n",
              "      <td>43.636847</td>\n",
              "      <td>-79.428191</td>\n",
              "    </tr>\n",
              "    <tr>\n",
              "      <th>15</th>\n",
              "      <td>M4L</td>\n",
              "      <td>East Toronto</td>\n",
              "      <td>India Bazaar, The Beaches West</td>\n",
              "      <td>43.668999</td>\n",
              "      <td>-79.315572</td>\n",
              "    </tr>\n",
              "    <tr>\n",
              "      <th>16</th>\n",
              "      <td>M5L</td>\n",
              "      <td>Downtown Toronto</td>\n",
              "      <td>Commerce Court, Victoria Hotel</td>\n",
              "      <td>43.648198</td>\n",
              "      <td>-79.379817</td>\n",
              "    </tr>\n",
              "    <tr>\n",
              "      <th>17</th>\n",
              "      <td>M4M</td>\n",
              "      <td>East Toronto</td>\n",
              "      <td>Studio District</td>\n",
              "      <td>43.659526</td>\n",
              "      <td>-79.340923</td>\n",
              "    </tr>\n",
              "    <tr>\n",
              "      <th>18</th>\n",
              "      <td>M4N</td>\n",
              "      <td>Central Toronto</td>\n",
              "      <td>Lawrence Park</td>\n",
              "      <td>43.728020</td>\n",
              "      <td>-79.388790</td>\n",
              "    </tr>\n",
              "    <tr>\n",
              "      <th>19</th>\n",
              "      <td>M5N</td>\n",
              "      <td>Central Toronto</td>\n",
              "      <td>Roselawn</td>\n",
              "      <td>43.711695</td>\n",
              "      <td>-79.416936</td>\n",
              "    </tr>\n",
              "    <tr>\n",
              "      <th>20</th>\n",
              "      <td>M4P</td>\n",
              "      <td>Central Toronto</td>\n",
              "      <td>Davisville North</td>\n",
              "      <td>43.712751</td>\n",
              "      <td>-79.390197</td>\n",
              "    </tr>\n",
              "    <tr>\n",
              "      <th>21</th>\n",
              "      <td>M5P</td>\n",
              "      <td>Central Toronto</td>\n",
              "      <td>Forest Hill North &amp; West, Forest Hill Road Park</td>\n",
              "      <td>43.696948</td>\n",
              "      <td>-79.411307</td>\n",
              "    </tr>\n",
              "    <tr>\n",
              "      <th>22</th>\n",
              "      <td>M6P</td>\n",
              "      <td>West Toronto</td>\n",
              "      <td>High Park, The Junction South</td>\n",
              "      <td>43.661608</td>\n",
              "      <td>-79.464763</td>\n",
              "    </tr>\n",
              "    <tr>\n",
              "      <th>23</th>\n",
              "      <td>M4R</td>\n",
              "      <td>Central Toronto</td>\n",
              "      <td>North Toronto West, Lawrence Park</td>\n",
              "      <td>43.715383</td>\n",
              "      <td>-79.405678</td>\n",
              "    </tr>\n",
              "    <tr>\n",
              "      <th>24</th>\n",
              "      <td>M5R</td>\n",
              "      <td>Central Toronto</td>\n",
              "      <td>The Annex, North Midtown, Yorkville</td>\n",
              "      <td>43.672710</td>\n",
              "      <td>-79.405678</td>\n",
              "    </tr>\n",
              "    <tr>\n",
              "      <th>25</th>\n",
              "      <td>M6R</td>\n",
              "      <td>West Toronto</td>\n",
              "      <td>Parkdale, Roncesvalles</td>\n",
              "      <td>43.648960</td>\n",
              "      <td>-79.456325</td>\n",
              "    </tr>\n",
              "    <tr>\n",
              "      <th>26</th>\n",
              "      <td>M4S</td>\n",
              "      <td>Central Toronto</td>\n",
              "      <td>Davisville</td>\n",
              "      <td>43.704324</td>\n",
              "      <td>-79.388790</td>\n",
              "    </tr>\n",
              "    <tr>\n",
              "      <th>27</th>\n",
              "      <td>M5S</td>\n",
              "      <td>Downtown Toronto</td>\n",
              "      <td>University of Toronto, Harbord</td>\n",
              "      <td>43.662696</td>\n",
              "      <td>-79.400049</td>\n",
              "    </tr>\n",
              "    <tr>\n",
              "      <th>28</th>\n",
              "      <td>M6S</td>\n",
              "      <td>West Toronto</td>\n",
              "      <td>Runnymede, Swansea</td>\n",
              "      <td>43.651571</td>\n",
              "      <td>-79.484450</td>\n",
              "    </tr>\n",
              "    <tr>\n",
              "      <th>29</th>\n",
              "      <td>M4T</td>\n",
              "      <td>Central Toronto</td>\n",
              "      <td>Moore Park, Summerhill East</td>\n",
              "      <td>43.689574</td>\n",
              "      <td>-79.383160</td>\n",
              "    </tr>\n",
              "    <tr>\n",
              "      <th>30</th>\n",
              "      <td>M5T</td>\n",
              "      <td>Downtown Toronto</td>\n",
              "      <td>Kensington Market, Chinatown, Grange Park</td>\n",
              "      <td>43.653206</td>\n",
              "      <td>-79.400049</td>\n",
              "    </tr>\n",
              "    <tr>\n",
              "      <th>31</th>\n",
              "      <td>M4V</td>\n",
              "      <td>Central Toronto</td>\n",
              "      <td>Summerhill West, Rathnelly, South Hill, Forest...</td>\n",
              "      <td>43.686412</td>\n",
              "      <td>-79.400049</td>\n",
              "    </tr>\n",
              "    <tr>\n",
              "      <th>32</th>\n",
              "      <td>M5V</td>\n",
              "      <td>Downtown Toronto</td>\n",
              "      <td>CN Tower, King and Spadina, Railway Lands, Har...</td>\n",
              "      <td>43.628947</td>\n",
              "      <td>-79.394420</td>\n",
              "    </tr>\n",
              "    <tr>\n",
              "      <th>33</th>\n",
              "      <td>M4W</td>\n",
              "      <td>Downtown Toronto</td>\n",
              "      <td>Rosedale</td>\n",
              "      <td>43.679563</td>\n",
              "      <td>-79.377529</td>\n",
              "    </tr>\n",
              "    <tr>\n",
              "      <th>34</th>\n",
              "      <td>M5W</td>\n",
              "      <td>Downtown Toronto</td>\n",
              "      <td>Stn A PO Boxes</td>\n",
              "      <td>43.646435</td>\n",
              "      <td>-79.374846</td>\n",
              "    </tr>\n",
              "    <tr>\n",
              "      <th>35</th>\n",
              "      <td>M4X</td>\n",
              "      <td>Downtown Toronto</td>\n",
              "      <td>St. James Town, Cabbagetown</td>\n",
              "      <td>43.667967</td>\n",
              "      <td>-79.367675</td>\n",
              "    </tr>\n",
              "    <tr>\n",
              "      <th>36</th>\n",
              "      <td>M5X</td>\n",
              "      <td>Downtown Toronto</td>\n",
              "      <td>First Canadian Place, Underground city</td>\n",
              "      <td>43.648429</td>\n",
              "      <td>-79.382280</td>\n",
              "    </tr>\n",
              "    <tr>\n",
              "      <th>37</th>\n",
              "      <td>M4Y</td>\n",
              "      <td>Downtown Toronto</td>\n",
              "      <td>Church and Wellesley</td>\n",
              "      <td>43.665860</td>\n",
              "      <td>-79.383160</td>\n",
              "    </tr>\n",
              "    <tr>\n",
              "      <th>38</th>\n",
              "      <td>M7Y</td>\n",
              "      <td>East Toronto</td>\n",
              "      <td>Business reply mail Processing Centre, South C...</td>\n",
              "      <td>43.662744</td>\n",
              "      <td>-79.321558</td>\n",
              "    </tr>\n",
              "  </tbody>\n",
              "</table>\n",
              "</div>"
            ],
            "text/plain": [
              "   Postal Code           Borough  ...   Latitude  Longitude\n",
              "0          M5A  Downtown Toronto  ...  43.654260 -79.360636\n",
              "1          M7A  Downtown Toronto  ...  43.662301 -79.389494\n",
              "2          M5B  Downtown Toronto  ...  43.657162 -79.378937\n",
              "3          M5C  Downtown Toronto  ...  43.651494 -79.375418\n",
              "4          M4E      East Toronto  ...  43.676357 -79.293031\n",
              "5          M5E  Downtown Toronto  ...  43.644771 -79.373306\n",
              "6          M5G  Downtown Toronto  ...  43.657952 -79.387383\n",
              "7          M6G  Downtown Toronto  ...  43.669542 -79.422564\n",
              "8          M5H  Downtown Toronto  ...  43.650571 -79.384568\n",
              "9          M6H      West Toronto  ...  43.669005 -79.442259\n",
              "10         M5J  Downtown Toronto  ...  43.640816 -79.381752\n",
              "11         M6J      West Toronto  ...  43.647927 -79.419750\n",
              "12         M4K      East Toronto  ...  43.679557 -79.352188\n",
              "13         M5K  Downtown Toronto  ...  43.647177 -79.381576\n",
              "14         M6K      West Toronto  ...  43.636847 -79.428191\n",
              "15         M4L      East Toronto  ...  43.668999 -79.315572\n",
              "16         M5L  Downtown Toronto  ...  43.648198 -79.379817\n",
              "17         M4M      East Toronto  ...  43.659526 -79.340923\n",
              "18         M4N   Central Toronto  ...  43.728020 -79.388790\n",
              "19         M5N   Central Toronto  ...  43.711695 -79.416936\n",
              "20         M4P   Central Toronto  ...  43.712751 -79.390197\n",
              "21         M5P   Central Toronto  ...  43.696948 -79.411307\n",
              "22         M6P      West Toronto  ...  43.661608 -79.464763\n",
              "23         M4R   Central Toronto  ...  43.715383 -79.405678\n",
              "24         M5R   Central Toronto  ...  43.672710 -79.405678\n",
              "25         M6R      West Toronto  ...  43.648960 -79.456325\n",
              "26         M4S   Central Toronto  ...  43.704324 -79.388790\n",
              "27         M5S  Downtown Toronto  ...  43.662696 -79.400049\n",
              "28         M6S      West Toronto  ...  43.651571 -79.484450\n",
              "29         M4T   Central Toronto  ...  43.689574 -79.383160\n",
              "30         M5T  Downtown Toronto  ...  43.653206 -79.400049\n",
              "31         M4V   Central Toronto  ...  43.686412 -79.400049\n",
              "32         M5V  Downtown Toronto  ...  43.628947 -79.394420\n",
              "33         M4W  Downtown Toronto  ...  43.679563 -79.377529\n",
              "34         M5W  Downtown Toronto  ...  43.646435 -79.374846\n",
              "35         M4X  Downtown Toronto  ...  43.667967 -79.367675\n",
              "36         M5X  Downtown Toronto  ...  43.648429 -79.382280\n",
              "37         M4Y  Downtown Toronto  ...  43.665860 -79.383160\n",
              "38         M7Y      East Toronto  ...  43.662744 -79.321558\n",
              "\n",
              "[39 rows x 5 columns]"
            ]
          },
          "metadata": {
            "tags": []
          },
          "execution_count": 4
        }
      ]
    },
    {
      "cell_type": "code",
      "metadata": {
        "id": "75X2MlchfhFM"
      },
      "source": [
        "CLIENT_ID = 'OGSWIKGTUL4GJPZ451SNZZ1ASYYAMXSZNQIRQHBPHZHWDCFO' # your Foursquare ID\r\n",
        "CLIENT_SECRET = 'RSKG2SCNBP3OC5SMDIPZ1JZWOWWGHBJ0PNMWOO33KGN4H5J2' # your Foursquare Secret\r\n",
        "VERSION = '20180605' # Foursquare API version\r\n",
        "LIMIT = 100 # limit of number of venues returned by Foursquare API"
      ],
      "execution_count": 5,
      "outputs": []
    },
    {
      "cell_type": "code",
      "metadata": {
        "id": "wbqZIfSzgoJY"
      },
      "source": [
        "def getNearbyVenues(names, latitudes, longitudes, radius=500):\r\n",
        "    \r\n",
        "    venues_list=[]\r\n",
        "    for name, lat, lng in zip(names, latitudes, longitudes):\r\n",
        "                    \r\n",
        "        # create the API request URL\r\n",
        "        url = 'https://api.foursquare.com/v2/venues/explore?&client_id={}&client_secret={}&v={}&ll={},{}&radius={}&limit={}'.format(\r\n",
        "            CLIENT_ID, \r\n",
        "            CLIENT_SECRET, \r\n",
        "            VERSION, \r\n",
        "            lat, \r\n",
        "            lng, \r\n",
        "            radius, \r\n",
        "            LIMIT)\r\n",
        "            \r\n",
        "        # make the GET request\r\n",
        "        results = requests.get(url).json()[\"response\"]['groups'][0]['items']\r\n",
        "        \r\n",
        "        # return only relevant information for each nearby venue\r\n",
        "        venues_list.append([(\r\n",
        "            name, \r\n",
        "            lat, \r\n",
        "            lng, \r\n",
        "            v['venue']['name'], \r\n",
        "            v['venue']['location']['lat'], \r\n",
        "            v['venue']['location']['lng'],  \r\n",
        "            v['venue']['categories'][0]['name']) for v in results])\r\n",
        "\r\n",
        "    nearby_venues = pd.DataFrame([item for venue_list in venues_list for item in venue_list])\r\n",
        "    nearby_venues.columns = ['Neighborhood', \r\n",
        "                  'Neighborhood Latitude', \r\n",
        "                  'Neighborhood Longitude', \r\n",
        "                  'Venue', \r\n",
        "                  'Venue Latitude', \r\n",
        "                  'Venue Longitude', \r\n",
        "                  'Venue Category']\r\n",
        "    \r\n",
        "    return(nearby_venues)"
      ],
      "execution_count": 6,
      "outputs": []
    },
    {
      "cell_type": "code",
      "metadata": {
        "id": "RuhgM9MLhVwj"
      },
      "source": [
        "toronto_venues = getNearbyVenues(names=df_clusters['Neighbourhood'],\r\n",
        "                                   latitudes=df_clusters['Latitude'],\r\n",
        "                                   longitudes=df_clusters['Longitude']\r\n",
        "                                  )"
      ],
      "execution_count": 7,
      "outputs": []
    },
    {
      "cell_type": "code",
      "metadata": {
        "id": "4x-2muKBiHZO"
      },
      "source": [
        "# one hot encoding\r\n",
        "toronto_onehot = pd.get_dummies(toronto_venues[['Venue Category']], prefix=\"\", prefix_sep=\"\")\r\n",
        "\r\n",
        "# add neighborhood column back to dataframe\r\n",
        "toronto_onehot['Neighborhood'] = toronto_venues['Neighborhood'] \r\n",
        "\r\n",
        "# move neighborhood column to the first column\r\n",
        "fixed_columns = [toronto_onehot.columns[-1]] + list(toronto_onehot.columns[:-1])\r\n",
        "toronto_onehot = toronto_onehot[fixed_columns]"
      ],
      "execution_count": 8,
      "outputs": []
    },
    {
      "cell_type": "code",
      "metadata": {
        "id": "9A8LjMpCi2HX"
      },
      "source": [
        "toronto_grouped = toronto_onehot.groupby('Neighborhood').mean().reset_index()"
      ],
      "execution_count": 9,
      "outputs": []
    },
    {
      "cell_type": "code",
      "metadata": {
        "id": "A6wulyeSjlaY"
      },
      "source": [
        "def return_most_common_venues(row, num_top_venues):\r\n",
        "    row_categories = row.iloc[1:]\r\n",
        "    row_categories_sorted = row_categories.sort_values(ascending=False)\r\n",
        "    \r\n",
        "    return row_categories_sorted.index.values[0:num_top_venues]"
      ],
      "execution_count": 10,
      "outputs": []
    },
    {
      "cell_type": "code",
      "metadata": {
        "id": "it-_aue0kf_V"
      },
      "source": [
        "num_top_venues = 10\r\n",
        "\r\n",
        "indicators = ['st', 'nd', 'rd']\r\n",
        "\r\n",
        "# create columns according to number of top venues\r\n",
        "columns = ['Neighbourhood']\r\n",
        "for ind in np.arange(num_top_venues):\r\n",
        "    try:\r\n",
        "        columns.append('{}{} Most Common Venue'.format(ind+1, indicators[ind]))\r\n",
        "    except:\r\n",
        "        columns.append('{}th Most Common Venue'.format(ind+1))\r\n",
        "\r\n",
        "# create a new dataframe\r\n",
        "neighborhoods_venues_sorted = pd.DataFrame(columns=columns)\r\n",
        "neighborhoods_venues_sorted['Neighbourhood'] = toronto_grouped['Neighborhood']\r\n",
        "\r\n",
        "for ind in np.arange(toronto_grouped.shape[0]):\r\n",
        "    neighborhoods_venues_sorted.iloc[ind, 1:] = return_most_common_venues(toronto_grouped.iloc[ind, :], num_top_venues)"
      ],
      "execution_count": 11,
      "outputs": []
    },
    {
      "cell_type": "code",
      "metadata": {
        "id": "piqKvyT0mNtu"
      },
      "source": [
        "# set number of clusters\r\n",
        "kclusters = 5\r\n",
        "\r\n",
        "toronto_grouped_clustering = toronto_grouped.drop('Neighborhood', 1)\r\n",
        "\r\n",
        "# run k-means clustering\r\n",
        "kmeans = KMeans(n_clusters=kclusters, random_state=0).fit(toronto_grouped_clustering)"
      ],
      "execution_count": 12,
      "outputs": []
    },
    {
      "cell_type": "code",
      "metadata": {
        "id": "NCDPmjOjm07L"
      },
      "source": [
        "# add clustering labels\r\n",
        "neighborhoods_venues_sorted.insert(0, 'Cluster Labels', kmeans.labels_)\r\n",
        "\r\n",
        "toronto_merged = df_clusters\r\n",
        "\r\n",
        "# merge manhattan_grouped with manhattan_data to add latitude/longitude for each neighborhood\r\n",
        "toronto_merged = toronto_merged.join(neighborhoods_venues_sorted.set_index('Neighbourhood'), on='Neighbourhood')"
      ],
      "execution_count": 13,
      "outputs": []
    },
    {
      "cell_type": "code",
      "metadata": {
        "colab": {
          "base_uri": "https://localhost:8080/",
          "height": 1000
        },
        "id": "z1fzOhiep3Sr",
        "outputId": "f970512b-0f83-4b29-9253-de70a1f3a08a"
      },
      "source": [
        "# create map\r\n",
        "map_clusters = folium.Map(location=[43.6532, -79.3832], zoom_start=12)\r\n",
        "\r\n",
        "# set color scheme for the clusters\r\n",
        "x = np.arange(kclusters)\r\n",
        "ys = [i + x + (i*x)**2 for i in range(kclusters)]\r\n",
        "colors_array = cm.rainbow(np.linspace(0, 1, len(ys)))\r\n",
        "rainbow = [colors.rgb2hex(i) for i in colors_array]\r\n",
        "\r\n",
        "# add markers to the map\r\n",
        "markers_colors = []\r\n",
        "for lat, lon, poi, cluster in zip(toronto_merged['Latitude'], toronto_merged['Longitude'], toronto_merged['Neighbourhood'], toronto_merged['Cluster Labels']):\r\n",
        "    label = folium.Popup(str(poi) + ' Cluster ' + str(cluster), parse_html=True)\r\n",
        "    folium.CircleMarker(\r\n",
        "        [lat, lon],\r\n",
        "        radius=5,\r\n",
        "        popup=label,\r\n",
        "        color=rainbow[cluster-1],\r\n",
        "        fill=True,\r\n",
        "        fill_color=rainbow[cluster-1],\r\n",
        "        fill_opacity=0.7).add_to(map_clusters)\r\n",
        "       \r\n",
        "map_clusters"
      ],
      "execution_count": 14,
      "outputs": [
        {
          "output_type": "execute_result",
          "data": {
            "text/html": [
              "<div style=\"width:100%;\"><div style=\"position:relative;width:100%;height:0;padding-bottom:60%;\"><span style=\"color:#565656\">Make this Notebook Trusted to load map: File -> Trust Notebook</span><iframe src=\"about:blank\" style=\"position:absolute;width:100%;height:100%;left:0;top:0;border:none !important;\" data-html=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 onload=\"this.contentDocument.open();this.contentDocument.write(atob(this.getAttribute('data-html')));this.contentDocument.close();\" allowfullscreen webkitallowfullscreen mozallowfullscreen></iframe></div></div>"
            ],
            "text/plain": [
              "<folium.folium.Map at 0x7f6f0c54d4e0>"
            ]
          },
          "metadata": {
            "tags": []
          },
          "execution_count": 14
        }
      ]
    }
  ]
}